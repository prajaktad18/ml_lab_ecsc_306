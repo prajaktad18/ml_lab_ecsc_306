{
 "cells": [
  {
   "cell_type": "code",
   "execution_count": 24,
   "metadata": {},
   "outputs": [],
   "source": [
    "import tensorflow as tf\n",
    "\n",
    "sess = tf.Session()\n",
    "\n",
    "array_x = tf.constant([1.0,2.0,3.0], name = 'x')\n",
    "array_y = tf.constant([4.0,5.0,6.0], name = 'y')\n"
   ]
  },
  {
   "cell_type": "code",
   "execution_count": 25,
   "metadata": {},
   "outputs": [
    {
     "data": {
      "text/plain": [
       "2.0"
      ]
     },
     "execution_count": 25,
     "metadata": {},
     "output_type": "execute_result"
    }
   ],
   "source": [
    "mean_x = tf.reduce_mean(array_x)\n",
    "mean_y = tf.reduce_mean(array_y)\n",
    "\n",
    "sess.run(mean_x)\n"
   ]
  },
  {
   "cell_type": "code",
   "execution_count": 37,
   "metadata": {},
   "outputs": [
    {
     "name": "stdout",
     "output_type": "stream",
     "text": [
      "Tensor(\"ToFloat_5:0\", shape=(1,), dtype=float32)\n",
      "[ 0.66666669]\n"
     ]
    }
   ],
   "source": [
    "#calucate variance of x\n",
    "sq_x = tf.square(array_x - mean_x)\n",
    "\n",
    "sess.run(sq_x)\n",
    "\n",
    "add_x = tf.reduce_sum(sq_x)\n",
    "sess.run(add_x)\n",
    "\n",
    "#get size of the array\n",
    "n = (array_x.get_shape())\n",
    "n = tf.to_float(n)\n",
    "print(n)\n",
    "\n",
    "variance_x = tf.div(add_x,n)\n",
    "writer = tf.summary.FileWriter(\"/tmp/tboard/output_c1\", sess.graph)\n",
    "print(sess.run(variance_x))\n",
    "writer.close()"
   ]
  },
  {
   "cell_type": "code",
   "execution_count": null,
   "metadata": {
    "collapsed": true
   },
   "outputs": [],
   "source": []
  }
 ],
 "metadata": {
  "kernelspec": {
   "display_name": "Python 3",
   "language": "python",
   "name": "python3"
  },
  "language_info": {
   "codemirror_mode": {
    "name": "ipython",
    "version": 3
   },
   "file_extension": ".py",
   "mimetype": "text/x-python",
   "name": "python",
   "nbconvert_exporter": "python",
   "pygments_lexer": "ipython3",
   "version": "3.6.1"
  }
 },
 "nbformat": 4,
 "nbformat_minor": 2
}
