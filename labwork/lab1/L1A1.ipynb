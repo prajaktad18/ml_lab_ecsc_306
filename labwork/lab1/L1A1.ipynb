{
 "cells": [
  {
   "cell_type": "code",
   "execution_count": 2,
   "metadata": {
    "collapsed": true
   },
   "outputs": [],
   "source": [
    "import tensorflow as tf"
   ]
  },
  {
   "cell_type": "code",
   "execution_count": 4,
   "metadata": {
    "collapsed": true
   },
   "outputs": [],
   "source": [
    "with tf.name_scope(\"MyOperationGroup1\"):\n",
    "    with tf.name_scope(\"Scope_A\"):\n",
    "        a = tf.placeholder(tf.float32, name=\"a\")\n",
    "        b = tf.placeholder(tf.float32, name=\"b\")\n",
    "       \n",
    "    with tf.name_scope(\"Scope_B\"):\n",
    "        asq = tf.multiply(a,a,name=\"a_square\")\n",
    "        bsq = tf.multiply(b,b,name=\"b_square\")\n",
    "       \n",
    "    with tf.name_scope(\"Scope_C\"):\n",
    "        ab2 = a * b * 2\n",
    "\n",
    "with tf.name_scope(\"Scope_final\"):\n",
    "    c = asq + bsq + ab2\n"
   ]
  },
  {
   "cell_type": "code",
   "execution_count": 5,
   "metadata": {
    "collapsed": true
   },
   "outputs": [],
   "source": [
    "with tf.Session() as sess:\n",
    "    writer = tf.summary.FileWriter(\"/tmp/tboard/assign_out_1\", sess.graph)\n",
    "    writer.close()"
   ]
  }
 ],
 "metadata": {
  "kernelspec": {
   "display_name": "Python 3",
   "language": "python",
   "name": "python3"
  },
  "language_info": {
   "codemirror_mode": {
    "name": "ipython",
    "version": 3
   },
   "file_extension": ".py",
   "mimetype": "text/x-python",
   "name": "python",
   "nbconvert_exporter": "python",
   "pygments_lexer": "ipython3",
   "version": "3.6.1"
  }
 },
 "nbformat": 4,
 "nbformat_minor": 2
}
