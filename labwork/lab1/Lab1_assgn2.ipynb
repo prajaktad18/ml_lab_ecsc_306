{
 "cells": [
  {
   "cell_type": "code",
   "execution_count": 2,
   "metadata": {
    "collapsed": true
   },
   "outputs": [],
   "source": [
    "#----------------------------------------------- PART 1 ------------------------------------------------------"
   ]
  },
  {
   "cell_type": "code",
   "execution_count": 3,
   "metadata": {
    "collapsed": true
   },
   "outputs": [],
   "source": [
    "import tensorflow as tf\n",
    "\n",
    "sess = tf.Session()\n",
    "#1.Read arrays x and y containing floating numbers\n",
    "array_x = tf.constant([1.0,2.0,3.0], name = 'x')\n",
    "array_y = tf.constant([2.0,3.0,4.0], name = 'y')\n"
   ]
  },
  {
   "cell_type": "code",
   "execution_count": 5,
   "metadata": {},
   "outputs": [],
   "source": [
    "#2. Calculate mean of x and y\n",
    "mean_x = tf.reduce_mean(array_x)\n",
    "mean_y = tf.reduce_mean(array_y)"
   ]
  },
  {
   "cell_type": "code",
   "execution_count": 7,
   "metadata": {},
   "outputs": [
    {
     "name": "stdout",
     "output_type": "stream",
     "text": [
      "[ 0.66666669]\n"
     ]
    }
   ],
   "source": [
    "#3. Calucate variance of x\n",
    "#variance(x)=sum((x-mean(x))^2)\n",
    "with tf.name_scope(\"Variance_X\"):\n",
    "    sq_x = tf.square(array_x - mean_x)\n",
    "\n",
    "    add_x = tf.reduce_sum(sq_x)\n",
    "\n",
    "    #get size of the array\n",
    "    n = (array_x.get_shape())\n",
    "    n = tf.to_float(n)\n",
    "    #print(n)\n",
    "\n",
    "    variance_x = tf.div(add_x,n,name=\"Variance_x\")\n",
    "    \n",
    "    #writer = tf.summary.FileWriter(\"/tmp/tboard/l1a2_pa\", sess.graph)\n",
    "    print(sess.run(variance_x))\n",
    "    #writer.close()"
   ]
  },
  {
   "cell_type": "code",
   "execution_count": 9,
   "metadata": {},
   "outputs": [],
   "source": [
    "#4. Calculate covariance of x and y\n",
    "#covariance = sum((x(i) - mean(x)) * (y(i) - mean(y)))\n",
    "\n",
    "with tf.name_scope(\"Covariance\"):\n",
    "    co_x_y=0.0\n",
    "    \n",
    "    for i in range(len(sess.run(array_x))):\n",
    "        co_x_y = tf.add(co_x_y,tf.multiply(tf.subtract(array_x[i],mean_x),tf.subtract(array_y[i],mean_y)))"
   ]
  },
  {
   "cell_type": "code",
   "execution_count": 11,
   "metadata": {
    "collapsed": true
   },
   "outputs": [],
   "source": [
    "#5. m=covariance(x,y)/variance(x) \n",
    "with tf.name_scope(\"m\"):\n",
    "    m = tf.div(co_x_y,variance_x,name=\"m\")"
   ]
  },
  {
   "cell_type": "code",
   "execution_count": 13,
   "metadata": {
    "collapsed": true
   },
   "outputs": [],
   "source": [
    "#6. c=mean(y)-m*mean(x)\n",
    "with tf.name_scope(\"c\"):\n",
    "    c = tf.subtract(mean_y,tf.multiply(m,mean_x))"
   ]
  },
  {
   "cell_type": "code",
   "execution_count": 15,
   "metadata": {
    "collapsed": true
   },
   "outputs": [],
   "source": [
    "# y = mx + c\n",
    "with tf.name_scope(\"Linear_model\"):\n",
    "    y = tf.add(tf.multiply(m,array_x),c)"
   ]
  },
  {
   "cell_type": "code",
   "execution_count": 17,
   "metadata": {},
   "outputs": [
    {
     "name": "stdout",
     "output_type": "stream",
     "text": [
      "Mean of x =  2.0\n",
      "Mean of y =  3.0\n",
      "Variance of x =  [ 0.66666669]\n",
      "Covariance(x,y) =  2.0\n",
      "Slope,m =  [ 3.]\n",
      "Constant,c =  [-3.]\n",
      "y = mx + c =  [ 0.  3.  6.]\n"
     ]
    }
   ],
   "source": [
    "#Printing the values\n",
    "print(\"Mean of x = \",sess.run(mean_x))\n",
    "print(\"Mean of y = \",sess.run(mean_y))\n",
    "print(\"Variance of x = \",sess.run(variance_x))\n",
    "print(\"Covariance(x,y) = \",sess.run(co_x_y))\n",
    "print(\"Slope,m = \",sess.run(m))\n",
    "print(\"Constant,c = \",sess.run(c))\n",
    "    \n",
    "print(\"y = mx + c = \",sess.run(y))"
   ]
  },
  {
   "cell_type": "code",
   "execution_count": 19,
   "metadata": {
    "collapsed": true
   },
   "outputs": [],
   "source": [
    "#----------------------------------------------- PART 2 -----------------------------------------------------"
   ]
  },
  {
   "cell_type": "code",
   "execution_count": 21,
   "metadata": {},
   "outputs": [
    {
     "name": "stdout",
     "output_type": "stream",
     "text": [
      "Array y :  [ 2.  3.  4.]\n",
      "Predicted y :  [ 0.  3.  6.]\n"
     ]
    },
    {
     "data": {
      "image/png": "[encoded data removed]",
      "text/plain": [
       "<matplotlib.figure.Figure at 0x7fbfaef678d0>"
      ]
     },
     "metadata": {},
     "output_type": "display_data"
    }
   ],
   "source": [
    "import matplotlib.pyplot  as plt\n",
    "\n",
    "#1. Plot graph for actual values against predicted value\n",
    "print(\"Array y : \",sess.run(array_y))\n",
    "print(\"Predicted y : \",sess.run(y))\n",
    "\n",
    "#plotting the graph\n",
    "plt.plot(sess.run(array_y),sess.run(y))\n",
    "#plt.axis(0,7,0,8)\n",
    "plt.show()"
   ]
  },
  {
   "cell_type": "code",
   "execution_count": 22,
   "metadata": {},
   "outputs": [
    {
     "name": "stdout",
     "output_type": "stream",
     "text": [
      "Root mean square error: 1.63299\n"
     ]
    }
   ],
   "source": [
    "#2. Calculate root mean square error.\n",
    "rmse = tf.sqrt(tf.reduce_sum(tf.pow(y-array_y, 2))/(len(sess.run(array_x))))\n",
    "print(\"Root mean square error:\",sess.run(rmse))"
   ]
  }
 ],
 "metadata": {
  "kernelspec": {
   "display_name": "Python 3",
   "language": "python",
   "name": "python3"
  },
  "language_info": {
   "codemirror_mode": {
    "name": "ipython",
    "version": 3
   },
   "file_extension": ".py",
   "mimetype": "text/x-python",
   "name": "python",
   "nbconvert_exporter": "python",
   "pygments_lexer": "ipython3",
   "version": "3.6.1"
  }
 },
 "nbformat": 4,
 "nbformat_minor": 2
}
